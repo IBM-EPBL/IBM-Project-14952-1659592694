{
  "cells": [
    {
      "cell_type": "markdown",
      "id": "bfd5a753",
      "metadata": {
        "id": "bfd5a753"
      },
      "source": [
        "# Basic Python"
      ]
    },
    {
      "cell_type": "markdown",
      "id": "0b445ec5",
      "metadata": {
        "id": "0b445ec5"
      },
      "source": [
        "## 1. Split this string"
      ]
    },
    {
      "cell_type": "code",
      "execution_count": 1,
      "id": "5a85e798",
      "metadata": {
        "id": "5a85e798"
      },
      "outputs": [],
      "source": [
        "s = \"Hi there Sam!\""
      ]
    },
    {
      "cell_type": "code",
      "execution_count": 2,
      "id": "3da8558c",
      "metadata": {
        "colab": {
          "base_uri": "https://localhost:8080/"
        },
        "id": "3da8558c",
        "outputId": "dd1f0742-644b-4fa5-b69a-676ea0d1bfcb"
      },
      "outputs": [
        {
          "output_type": "stream",
          "name": "stdout",
          "text": [
            "['Hi', 'there', 'Sam!']\n"
          ]
        }
      ],
      "source": [
        "print(s.split())"
      ]
    },
    {
      "cell_type": "markdown",
      "id": "7f90734b",
      "metadata": {
        "id": "7f90734b"
      },
      "source": [
        "## 2. Use .format() to print the following string."
      ]
    },
    {
      "cell_type": "markdown",
      "id": "5a321f0c",
      "metadata": {
        "id": "5a321f0c"
      },
      "source": [
        "### Output should be: The diameter of Earth is 12742 kilometers. "
      ]
    },
    {
      "cell_type": "code",
      "execution_count": 3,
      "id": "9a4bc34a",
      "metadata": {
        "id": "9a4bc34a"
      },
      "outputs": [],
      "source": [
        "planet = \"Earth\"\n",
        "diameter = 12742"
      ]
    },
    {
      "cell_type": "code",
      "execution_count": 4,
      "id": "730c20f4",
      "metadata": {
        "colab": {
          "base_uri": "https://localhost:8080/"
        },
        "id": "730c20f4",
        "outputId": "d05744e9-f4eb-4015-c989-0401b881f8d3"
      },
      "outputs": [
        {
          "output_type": "stream",
          "name": "stdout",
          "text": [
            "The diameter of Earth is 12742 kilometers.\n"
          ]
        }
      ],
      "source": [
        "print(\"The diameter of {} is {} kilometers.\".format(planet, diameter))"
      ]
    },
    {
      "cell_type": "markdown",
      "id": "fef5eca3",
      "metadata": {
        "id": "fef5eca3"
      },
      "source": [
        "## 3. In this nest dictionary grab the word \"hello\""
      ]
    },
    {
      "cell_type": "code",
      "execution_count": 5,
      "id": "bb2d56b3",
      "metadata": {
        "id": "bb2d56b3"
      },
      "outputs": [],
      "source": [
        "d = {'k1':[1,2,3,{'tricky':['oh','man','inception',{'target':[1,2,3,'hello']}]}]}"
      ]
    },
    {
      "cell_type": "code",
      "execution_count": 6,
      "id": "748c5f6a",
      "metadata": {
        "colab": {
          "base_uri": "https://localhost:8080/"
        },
        "id": "748c5f6a",
        "outputId": "255af97d-f0f6-4281-a1a0-20799dfa13d3"
      },
      "outputs": [
        {
          "output_type": "stream",
          "name": "stdout",
          "text": [
            "hello\n"
          ]
        }
      ],
      "source": [
        "print(d['k1'][3]['tricky'][3]['target'][3])"
      ]
    },
    {
      "cell_type": "markdown",
      "id": "93a45586",
      "metadata": {
        "id": "93a45586"
      },
      "source": [
        "# Numpy"
      ]
    },
    {
      "cell_type": "code",
      "execution_count": 7,
      "id": "0c31915f",
      "metadata": {
        "id": "0c31915f"
      },
      "outputs": [],
      "source": [
        "import numpy as np"
      ]
    },
    {
      "cell_type": "markdown",
      "id": "653fd4fe",
      "metadata": {
        "id": "653fd4fe"
      },
      "source": [
        "## 4.1 Create an array of 10 zeros?"
      ]
    },
    {
      "cell_type": "markdown",
      "id": "79d637e2",
      "metadata": {
        "id": "79d637e2"
      },
      "source": [
        "## 4.2 Create an array of 10 fives? "
      ]
    },
    {
      "cell_type": "code",
      "execution_count": 8,
      "id": "b955edbd",
      "metadata": {
        "colab": {
          "base_uri": "https://localhost:8080/"
        },
        "id": "b955edbd",
        "outputId": "aeade00f-90e8-4118-8a31-c85efd762533"
      },
      "outputs": [
        {
          "output_type": "execute_result",
          "data": {
            "text/plain": [
              "array([0., 0., 0., 0., 0., 0., 0., 0., 0., 0.])"
            ]
          },
          "metadata": {},
          "execution_count": 8
        }
      ],
      "source": [
        "np.zeros(10)"
      ]
    },
    {
      "cell_type": "code",
      "execution_count": 9,
      "id": "0872dc86",
      "metadata": {
        "colab": {
          "base_uri": "https://localhost:8080/"
        },
        "id": "0872dc86",
        "outputId": "f159a6d8-9863-4637-f011-103fa7966f9d"
      },
      "outputs": [
        {
          "output_type": "execute_result",
          "data": {
            "text/plain": [
              "array([5., 5., 5., 5., 5., 5., 5., 5., 5., 5.])"
            ]
          },
          "metadata": {},
          "execution_count": 9
        }
      ],
      "source": [
        "np.ones(10)*5"
      ]
    },
    {
      "cell_type": "markdown",
      "id": "d59c9353",
      "metadata": {
        "id": "d59c9353"
      },
      "source": [
        "## 5. Create an array of all even integers from 20 to 35"
      ]
    },
    {
      "cell_type": "code",
      "execution_count": 10,
      "id": "f09abb0d",
      "metadata": {
        "colab": {
          "base_uri": "https://localhost:8080/"
        },
        "id": "f09abb0d",
        "outputId": "9e583776-fb8d-4a33-8a0e-f61d7af822f0"
      },
      "outputs": [
        {
          "output_type": "execute_result",
          "data": {
            "text/plain": [
              "array([20, 22, 24, 26, 28, 30, 32, 34])"
            ]
          },
          "metadata": {},
          "execution_count": 10
        }
      ],
      "source": [
        "np.arange(20,35,2)"
      ]
    },
    {
      "cell_type": "markdown",
      "id": "11808969",
      "metadata": {
        "id": "11808969"
      },
      "source": [
        "## 6. Create 3x3 matrix with values ranging from 0 to 8"
      ]
    },
    {
      "cell_type": "code",
      "execution_count": 11,
      "id": "98db74b4",
      "metadata": {
        "colab": {
          "base_uri": "https://localhost:8080/"
        },
        "id": "98db74b4",
        "outputId": "af92a407-0b6f-403c-81a4-747e064d218e"
      },
      "outputs": [
        {
          "output_type": "execute_result",
          "data": {
            "text/plain": [
              "array([[0, 1, 2],\n",
              "       [3, 4, 5],\n",
              "       [6, 7, 8]])"
            ]
          },
          "metadata": {},
          "execution_count": 11
        }
      ],
      "source": [
        "np.arange(0,9).reshape((3,3))"
      ]
    },
    {
      "cell_type": "markdown",
      "id": "dd674220",
      "metadata": {
        "id": "dd674220"
      },
      "source": [
        "## 7. Concatenate a and b"
      ]
    },
    {
      "cell_type": "code",
      "execution_count": 12,
      "id": "44b8ceb1",
      "metadata": {
        "id": "44b8ceb1"
      },
      "outputs": [],
      "source": [
        "a=np.array([1,2,3])\n",
        "b=np.array([4,5,6])"
      ]
    },
    {
      "cell_type": "code",
      "execution_count": 13,
      "id": "a8039fab",
      "metadata": {
        "colab": {
          "base_uri": "https://localhost:8080/"
        },
        "id": "a8039fab",
        "outputId": "337cdde3-c1b1-4a2f-d974-46255e17485d"
      },
      "outputs": [
        {
          "output_type": "execute_result",
          "data": {
            "text/plain": [
              "array([1, 2, 3, 4, 5, 6])"
            ]
          },
          "metadata": {},
          "execution_count": 13
        }
      ],
      "source": [
        "np.concatenate((a,b), axis=0, out=None)"
      ]
    },
    {
      "cell_type": "markdown",
      "id": "8c5c494f",
      "metadata": {
        "id": "8c5c494f"
      },
      "source": [
        "# Pandas "
      ]
    },
    {
      "cell_type": "markdown",
      "id": "20297e38",
      "metadata": {
        "id": "20297e38"
      },
      "source": [
        "## 8. Create a dataframe with 3 rows and 2 columns"
      ]
    },
    {
      "cell_type": "code",
      "execution_count": 14,
      "id": "63528e72",
      "metadata": {
        "id": "63528e72"
      },
      "outputs": [],
      "source": [
        "import pandas as pd\n",
        "df = pd.DataFrame(index=np.arange(3), columns=np.arange(2))"
      ]
    },
    {
      "cell_type": "code",
      "execution_count": 15,
      "id": "ef4683fe",
      "metadata": {
        "colab": {
          "base_uri": "https://localhost:8080/"
        },
        "id": "ef4683fe",
        "outputId": "edb9a42c-6cad-41fb-de04-c576e9edec27"
      },
      "outputs": [
        {
          "output_type": "stream",
          "name": "stdout",
          "text": [
            "     0    1\n",
            "0  NaN  NaN\n",
            "1  NaN  NaN\n",
            "2  NaN  NaN\n"
          ]
        }
      ],
      "source": [
        "print(df)"
      ]
    },
    {
      "cell_type": "code",
      "execution_count": 16,
      "id": "01d1cc3b",
      "metadata": {
        "colab": {
          "base_uri": "https://localhost:8080/"
        },
        "id": "01d1cc3b",
        "outputId": "82ff6863-9b07-409b-ef3d-87087d64105c"
      },
      "outputs": [
        {
          "output_type": "execute_result",
          "data": {
            "text/plain": [
              "(3, 2)"
            ]
          },
          "metadata": {},
          "execution_count": 16
        }
      ],
      "source": [
        "df.shape"
      ]
    },
    {
      "cell_type": "markdown",
      "id": "bb911a97",
      "metadata": {
        "id": "bb911a97"
      },
      "source": [
        "## 9.Generate the series of dates from 1st Jan, 2023 to 10th Feb, 2023"
      ]
    },
    {
      "cell_type": "code",
      "execution_count": 17,
      "id": "742874dd",
      "metadata": {
        "scrolled": false,
        "colab": {
          "base_uri": "https://localhost:8080/"
        },
        "id": "742874dd",
        "outputId": "b0905a47-e659-4b38-c244-e217bcd74ca1"
      },
      "outputs": [
        {
          "output_type": "stream",
          "name": "stdout",
          "text": [
            "DatetimeIndex(['2023-01-01', '2023-01-02', '2023-01-03', '2023-01-04',\n",
            "               '2023-01-05', '2023-01-06', '2023-01-07', '2023-01-08',\n",
            "               '2023-01-09', '2023-01-10',\n",
            "               ...\n",
            "               '2023-10-24', '2023-10-25', '2023-10-26', '2023-10-27',\n",
            "               '2023-10-28', '2023-10-29', '2023-10-30', '2023-10-31',\n",
            "               '2023-11-01', '2023-11-02'],\n",
            "              dtype='datetime64[ns]', length=306, freq='D')\n"
          ]
        }
      ],
      "source": [
        "date = pd.date_range(\"01-01-2023\", \"11-02-2023\")\n",
        "print(date)"
      ]
    },
    {
      "cell_type": "markdown",
      "id": "983c0581",
      "metadata": {
        "id": "983c0581"
      },
      "source": [
        "## 10. Create 2D list to DataFrame"
      ]
    },
    {
      "cell_type": "code",
      "execution_count": 18,
      "id": "01111b0b",
      "metadata": {
        "id": "01111b0b"
      },
      "outputs": [],
      "source": [
        "lists = [[1, 'aaa', 22], [2, 'bbb', 25], [3, 'ccc', 24]]"
      ]
    },
    {
      "cell_type": "code",
      "execution_count": 19,
      "id": "1c6309d8",
      "metadata": {
        "colab": {
          "base_uri": "https://localhost:8080/"
        },
        "id": "1c6309d8",
        "outputId": "4daa45e5-49ba-4da4-c5e6-827a9d70f09d"
      },
      "outputs": [
        {
          "output_type": "stream",
          "name": "stdout",
          "text": [
            "   0    1   2\n",
            "0  1  aaa  22\n",
            "1  2  bbb  25\n",
            "2  3  ccc  24\n"
          ]
        }
      ],
      "source": [
        "data = pd.DataFrame.from_records(lists)\n",
        "print(data)"
      ]
    },
    {
      "cell_type": "code",
      "execution_count": null,
      "id": "67969534",
      "metadata": {
        "id": "67969534"
      },
      "outputs": [],
      "source": []
    }
  ],
  "metadata": {
    "kernelspec": {
      "display_name": "Python 3",
      "language": "python",
      "name": "python3"
    },
    "language_info": {
      "codemirror_mode": {
        "name": "ipython",
        "version": 3
      },
      "file_extension": ".py",
      "mimetype": "text/x-python",
      "name": "python",
      "nbconvert_exporter": "python",
      "pygments_lexer": "ipython3",
      "version": "3.8.8"
    },
    "colab": {
      "provenance": []
    }
  },
  "nbformat": 4,
  "nbformat_minor": 5
}